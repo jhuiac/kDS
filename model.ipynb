{
 "cells": [
  {
   "cell_type": "markdown",
   "metadata": {},
   "source": [
    "# SAMPLE DS MODEL\n",
    "\n",
    "## 0. IMPORTS"
   ]
  },
  {
   "cell_type": "code",
   "execution_count": 10,
   "metadata": {},
   "outputs": [],
   "source": [
    "import numpy as np\n",
    "import matplotlib.pyplot as plt\n",
    "\n",
    "from IPython.core.display import HTML, display\n",
    "from IPython.display import display, Audio\n",
    "\n",
    "import sys\n",
    "import base64\n",
    "import struct  \n",
    "import librosa\n",
    "import librosa.display"
   ]
  },
  {
   "cell_type": "markdown",
   "metadata": {},
   "source": [
    "## 6. KERAS\n",
    "\n",
    "We can load this mfcc data into a DS1 NN"
   ]
  },
  {
   "cell_type": "code",
   "execution_count": 15,
   "metadata": {},
   "outputs": [],
   "source": [
    "# imports\n",
    "import keras\n",
    "from keras import backend as K\n",
    "from keras.models import Model, Sequential\n",
    "from keras.layers.recurrent import SimpleRNN\n",
    "from keras.layers import Dense, Activation, Bidirectional, Reshape, Lambda, Input\n",
    "from keras.optimizers import SGD, adam\n",
    "\n",
    "from keras.layers.merge import add, concatenate\n",
    "\n"
   ]
  },
  {
   "cell_type": "code",
   "execution_count": 16,
   "metadata": {},
   "outputs": [],
   "source": [
    "\n",
    "def next_train():\n",
    "    mfcc_nums = 26\n",
    "    absolute_max_string_len = 126\n",
    "    \n",
    "    ## Singledata example\n",
    "    x, fs = librosa.load(\"data/ldc93s1/LDC93S1.wav\", sr=16000)\n",
    "    d = librosa.feature.mfcc(x, sr=fs, n_mfcc=mfcc_nums)\n",
    "    s = \"She had your dark suit in greasy wash water all year.\"\n",
    "    \n",
    "    length = len(d)\n",
    "    batch_size = 1\n",
    "    \n",
    "    X_data = np.ones([batch_size, mfcc_nums])\n",
    "    \n",
    "    labels = np.ones([batch_size, absolute_max_string_len])\n",
    "    input_length = np.zeros([batch_size, 1])\n",
    "    label_length = np.zeros([batch_size, 1])\n",
    "    \n",
    "    # todo loop and load in each datapoint\n",
    "      \n",
    "    inputs = {\n",
    "         'the_input': X_data,\n",
    "         'the_labels': labels,\n",
    "         'input_length': input_length,\n",
    "         'label_length': label_length\n",
    "         }\n",
    "\n",
    "    outputs = {'ctc': np.zeros([batch_size])}\n",
    "    \n",
    "    while 1:\n",
    "        yield (inputs, outputs)\n",
    "\n",
    "\n",
    "# Define CTC loss\n",
    "def ctc_lambda_func(args):\n",
    "    y_pred, labels, input_length, label_length = args\n",
    "    # the 2 is critical here since the first couple outputs of the RNN\n",
    "    # tend to be garbage:\n",
    "    y_pred = y_pred[:, 2:, :]\n",
    "    return K.ctc_batch_cost(labels, y_pred, input_length, label_length)\n",
    "\n"
   ]
  },
  {
   "cell_type": "markdown",
   "metadata": {},
   "source": [
    "## 7. MODEL\n",
    "\n",
    "Let's build the model"
   ]
  },
  {
   "cell_type": "code",
   "execution_count": 18,
   "metadata": {},
   "outputs": [],
   "source": [
    "# Network Params\n",
    "fc_size = 2048\n",
    "rnn_size = 512\n",
    "rnn_steps = 16\n",
    "act = 'relu'\n",
    "\n",
    "# This returns shape of audio mfcc which is 26x92\n",
    "x, fs = librosa.load(\"data/ldc93s1/LDC93S1.wav\", sr=16000)\n",
    "mfcc = librosa.feature.mfcc(x, sr=fs, n_mfcc=26)\n",
    "\n",
    "input_shape = mfcc.shape # 26 x 92\n",
    "\n",
    "# Creates a tensor there are always 26 MFCC's however we don't know how many secs\n",
    "input_data = Input(name='the_input', shape=(input_shape[0],))\n",
    "\n",
    "# First 3 FC layers\n",
    "x = Dense(fc_size, name='fc1', activation='relu')(input_data)\n",
    "x = Dense(fc_size, name='fc2', activation='relu')(x)\n",
    "x = Dense(fc_size, name='fc3', activation='relu')(x)\n",
    "\n",
    "# Layer 4 BiDirectional RNN\n",
    "to_rnn_dims = (fc_size/rnn_steps, rnn_steps)\n",
    "x = Reshape(target_shape=to_rnn_dims, name='reshape')(x)\n",
    "\n",
    "rnn_1f = SimpleRNN(rnn_size, return_sequences=True, go_backwards=False, kernel_initializer='he_normal', name='rnn_f')(x)\n",
    "rnn_1b = SimpleRNN(rnn_size, return_sequences=True, go_backwards=True, kernel_initializer='he_normal', name='rnn_b')(x)\n",
    "rnn_merged = add([rnn_1f, rnn_1b])\n",
    "x = Activation('relu', name='birelu')(rnn_merged)\n",
    "\n",
    "# Layer 5 FC Layer\n",
    "x = Dense(fc_size, name='fc5', activation='relu')(x)\n",
    "\n",
    "# Layer 6 Output via softmax\n",
    "y_pred = Activation('softmax', name='softmax')(x)\n"
   ]
  },
  {
   "cell_type": "code",
   "execution_count": 19,
   "metadata": {},
   "outputs": [],
   "source": [
    "\n",
    "# Change shape \n",
    "labels = Input(name='the_labels', shape=[126], dtype='float32')\n",
    "input_length = Input(name='input_length', shape=[1], dtype='int64')\n",
    "label_length = Input(name='label_length', shape=[1], dtype='int64')\n",
    "\n",
    "# Keras doesn't currently support loss funcs with extra parameters\n",
    "# so CTC loss is implemented in a lambda layer\n",
    "loss_out = Lambda(ctc_lambda_func, output_shape=(1,), name='ctc')([y_pred,\n",
    "                                                                   labels, \n",
    "                                                                   input_length, \n",
    "                                                                   label_length])\n",
    "\n",
    "sgd = SGD(lr=0.02, decay=1e-6, momentum=0.9, nesterov=True, clipnorm=5)\n",
    "\n",
    "model = Model(inputs=[input_data, labels, input_length, label_length], outputs=loss_out)\n",
    "\n",
    "# the loss calc occurs elsewhere, so use a dummy lambda func for the loss\n",
    "model.compile(loss={'ctc': lambda y_true, y_pred: y_pred}, optimizer=sgd)"
   ]
  },
  {
   "cell_type": "markdown",
   "metadata": {},
   "source": [
    "## What's the output of the model? \n",
    "\n"
   ]
  },
  {
   "cell_type": "code",
   "execution_count": 20,
   "metadata": {},
   "outputs": [
    {
     "name": "stdout",
     "output_type": "stream",
     "text": [
      "________________________________________________________________________________\n",
      "Layer (type)              Output Shape      Param #  Connected to               \n",
      "================================================================================\n",
      "the_input (InputLayer)    (None, 26)        0                                   \n",
      "________________________________________________________________________________\n",
      "fc1 (Dense)               (None, 2048)      55296    the_input[0][0]            \n",
      "________________________________________________________________________________\n",
      "fc2 (Dense)               (None, 2048)      4196352  fc1[0][0]                  \n",
      "________________________________________________________________________________\n",
      "fc3 (Dense)               (None, 2048)      4196352  fc2[0][0]                  \n",
      "________________________________________________________________________________\n",
      "reshape (Reshape)         (None, 128, 16)   0        fc3[0][0]                  \n",
      "________________________________________________________________________________\n",
      "rnn_f (SimpleRNN)         (None, 128, 512)  270848   reshape[0][0]              \n",
      "________________________________________________________________________________\n",
      "rnn_b (SimpleRNN)         (None, 128, 512)  270848   reshape[0][0]              \n",
      "________________________________________________________________________________\n",
      "add_1 (Add)               (None, 128, 512)  0        rnn_f[0][0]                \n",
      "                                                     rnn_b[0][0]                \n",
      "________________________________________________________________________________\n",
      "birelu (Activation)       (None, 128, 512)  0        add_1[0][0]                \n",
      "________________________________________________________________________________\n",
      "fc5 (Dense)               (None, 128, 2048) 1050624  birelu[0][0]               \n",
      "________________________________________________________________________________\n",
      "softmax (Activation)      (None, 128, 2048) 0        fc5[0][0]                  \n",
      "________________________________________________________________________________\n",
      "the_labels (InputLayer)   (None, 126)       0                                   \n",
      "________________________________________________________________________________\n",
      "input_length (InputLayer) (None, 1)         0                                   \n",
      "________________________________________________________________________________\n",
      "label_length (InputLayer) (None, 1)         0                                   \n",
      "________________________________________________________________________________\n",
      "ctc (Lambda)              (None, 1)         0        softmax[0][0]              \n",
      "                                                     the_labels[0][0]           \n",
      "                                                     input_length[0][0]         \n",
      "                                                     label_length[0][0]         \n",
      "================================================================================\n",
      "Total params: 10,040,320\n",
      "Trainable params: 10,040,320\n",
      "Non-trainable params: 0\n",
      "________________________________________________________________________________\n"
     ]
    }
   ],
   "source": [
    "model.summary(line_length=80)\n",
    "\n",
    "config = model.get_config()\n"
   ]
  },
  {
   "cell_type": "markdown",
   "metadata": {
    "collapsed": true
   },
   "source": [
    "\n",
    "## 8. TRAIN\n",
    "\n",
    "\n"
   ]
  },
  {
   "cell_type": "code",
   "execution_count": 21,
   "metadata": {},
   "outputs": [
    {
     "name": "stdout",
     "output_type": "stream",
     "text": [
      "Epoch 2/2\n"
     ]
    },
    {
     "ename": "InvalidArgumentError",
     "evalue": "slice index 0 of dimension 0 out of bounds.\n\t [[Node: ctc/scan/strided_slice = StridedSlice[Index=DT_INT32, T=DT_INT32, begin_mask=0, ellipsis_mask=0, end_mask=0, new_axis_mask=0, shrink_axis_mask=1, _device=\"/job:localhost/replica:0/task:0/cpu:0\"](ctc/scan/Shape, ctc/scan/strided_slice/stack, ctc/scan/strided_slice/stack_1, ctc/scan/strided_slice/stack_2)]]\n\nCaused by op u'ctc/scan/strided_slice', defined at:\n  File \"/System/Library/Frameworks/Python.framework/Versions/2.7/lib/python2.7/runpy.py\", line 162, in _run_module_as_main\n    \"__main__\", fname, loader, pkg_name)\n  File \"/System/Library/Frameworks/Python.framework/Versions/2.7/lib/python2.7/runpy.py\", line 72, in _run_code\n    exec code in run_globals\n  File \"/Users/rob/py27/lib/python2.7/site-packages/ipykernel_launcher.py\", line 16, in <module>\n    app.launch_new_instance()\n  File \"/Users/rob/py27/lib/python2.7/site-packages/traitlets/config/application.py\", line 658, in launch_instance\n    app.start()\n  File \"/Users/rob/py27/lib/python2.7/site-packages/ipykernel/kernelapp.py\", line 477, in start\n    ioloop.IOLoop.instance().start()\n  File \"/Users/rob/py27/lib/python2.7/site-packages/zmq/eventloop/ioloop.py\", line 177, in start\n    super(ZMQIOLoop, self).start()\n  File \"/Users/rob/py27/lib/python2.7/site-packages/tornado/ioloop.py\", line 888, in start\n    handler_func(fd_obj, events)\n  File \"/Users/rob/py27/lib/python2.7/site-packages/tornado/stack_context.py\", line 277, in null_wrapper\n    return fn(*args, **kwargs)\n  File \"/Users/rob/py27/lib/python2.7/site-packages/zmq/eventloop/zmqstream.py\", line 440, in _handle_events\n    self._handle_recv()\n  File \"/Users/rob/py27/lib/python2.7/site-packages/zmq/eventloop/zmqstream.py\", line 472, in _handle_recv\n    self._run_callback(callback, msg)\n  File \"/Users/rob/py27/lib/python2.7/site-packages/zmq/eventloop/zmqstream.py\", line 414, in _run_callback\n    callback(*args, **kwargs)\n  File \"/Users/rob/py27/lib/python2.7/site-packages/tornado/stack_context.py\", line 277, in null_wrapper\n    return fn(*args, **kwargs)\n  File \"/Users/rob/py27/lib/python2.7/site-packages/ipykernel/kernelbase.py\", line 283, in dispatcher\n    return self.dispatch_shell(stream, msg)\n  File \"/Users/rob/py27/lib/python2.7/site-packages/ipykernel/kernelbase.py\", line 235, in dispatch_shell\n    handler(stream, idents, msg)\n  File \"/Users/rob/py27/lib/python2.7/site-packages/ipykernel/kernelbase.py\", line 399, in execute_request\n    user_expressions, allow_stdin)\n  File \"/Users/rob/py27/lib/python2.7/site-packages/ipykernel/ipkernel.py\", line 196, in do_execute\n    res = shell.run_cell(code, store_history=store_history, silent=silent)\n  File \"/Users/rob/py27/lib/python2.7/site-packages/ipykernel/zmqshell.py\", line 533, in run_cell\n    return super(ZMQInteractiveShell, self).run_cell(*args, **kwargs)\n  File \"/Users/rob/py27/lib/python2.7/site-packages/IPython/core/interactiveshell.py\", line 2705, in run_cell\n    interactivity=interactivity, compiler=compiler, result=result)\n  File \"/Users/rob/py27/lib/python2.7/site-packages/IPython/core/interactiveshell.py\", line 2809, in run_ast_nodes\n    if self.run_code(code, result):\n  File \"/Users/rob/py27/lib/python2.7/site-packages/IPython/core/interactiveshell.py\", line 2869, in run_code\n    exec(code_obj, self.user_global_ns, self.user_ns)\n  File \"<ipython-input-19-09cbd6b805b2>\", line 12, in <module>\n    label_length])\n  File \"/Users/rob/py27/lib/python2.7/site-packages/keras/engine/topology.py\", line 596, in __call__\n    output = self.call(inputs, **kwargs)\n  File \"/Users/rob/py27/lib/python2.7/site-packages/keras/layers/core.py\", line 647, in call\n    return self.function(inputs, **arguments)\n  File \"<ipython-input-16-47e45d8e21f5>\", line 41, in ctc_lambda_func\n    return K.ctc_batch_cost(labels, y_pred, input_length, label_length)\n  File \"/Users/rob/py27/lib/python2.7/site-packages/keras/backend/tensorflow_backend.py\", line 3648, in ctc_batch_cost\n    sparse_labels = tf.to_int32(ctc_label_dense_to_sparse(y_true, label_length))\n  File \"/Users/rob/py27/lib/python2.7/site-packages/keras/backend/tensorflow_backend.py\", line 3612, in ctc_label_dense_to_sparse\n    initializer=init, parallel_iterations=1)\n  File \"/Users/rob/py27/lib/python2.7/site-packages/tensorflow/python/ops/functional_ops.py\", line 526, in scan\n    n = array_ops.shape(elems_flat[0])[0]\n  File \"/Users/rob/py27/lib/python2.7/site-packages/tensorflow/python/ops/array_ops.py\", line 497, in _SliceHelper\n    name=name)\n  File \"/Users/rob/py27/lib/python2.7/site-packages/tensorflow/python/ops/array_ops.py\", line 655, in strided_slice\n    shrink_axis_mask=shrink_axis_mask)\n  File \"/Users/rob/py27/lib/python2.7/site-packages/tensorflow/python/ops/gen_array_ops.py\", line 3568, in strided_slice\n    shrink_axis_mask=shrink_axis_mask, name=name)\n  File \"/Users/rob/py27/lib/python2.7/site-packages/tensorflow/python/framework/op_def_library.py\", line 768, in apply_op\n    op_def=op_def)\n  File \"/Users/rob/py27/lib/python2.7/site-packages/tensorflow/python/framework/ops.py\", line 2336, in create_op\n    original_op=self._default_original_op, op_def=op_def)\n  File \"/Users/rob/py27/lib/python2.7/site-packages/tensorflow/python/framework/ops.py\", line 1228, in __init__\n    self._traceback = _extract_stack()\n\nInvalidArgumentError (see above for traceback): slice index 0 of dimension 0 out of bounds.\n\t [[Node: ctc/scan/strided_slice = StridedSlice[Index=DT_INT32, T=DT_INT32, begin_mask=0, ellipsis_mask=0, end_mask=0, new_axis_mask=0, shrink_axis_mask=1, _device=\"/job:localhost/replica:0/task:0/cpu:0\"](ctc/scan/Shape, ctc/scan/strided_slice/stack, ctc/scan/strided_slice/stack_1, ctc/scan/strided_slice/stack_2)]]\n",
     "output_type": "error",
     "traceback": [
      "\u001b[0;31m---------------------------------------------------------------------------\u001b[0m",
      "\u001b[0;31mInvalidArgumentError\u001b[0m                      Traceback (most recent call last)",
      "\u001b[0;32m<ipython-input-21-b37f02bd1630>\u001b[0m in \u001b[0;36m<module>\u001b[0;34m()\u001b[0m\n\u001b[1;32m     10\u001b[0m                     \u001b[0mvalidation_data\u001b[0m\u001b[0;34m=\u001b[0m\u001b[0mnext_train\u001b[0m\u001b[0;34m(\u001b[0m\u001b[0;34m)\u001b[0m\u001b[0;34m,\u001b[0m\u001b[0;34m\u001b[0m\u001b[0m\n\u001b[1;32m     11\u001b[0m                     \u001b[0mvalidation_steps\u001b[0m\u001b[0;34m=\u001b[0m\u001b[0;36m1\u001b[0m\u001b[0;34m,\u001b[0m\u001b[0;34m\u001b[0m\u001b[0m\n\u001b[0;32m---> 12\u001b[0;31m                     initial_epoch=1)\n\u001b[0m",
      "\u001b[0;32m/Users/rob/py27/lib/python2.7/site-packages/keras/legacy/interfaces.pyc\u001b[0m in \u001b[0;36mwrapper\u001b[0;34m(*args, **kwargs)\u001b[0m\n\u001b[1;32m     85\u001b[0m                 warnings.warn('Update your `' + object_name +\n\u001b[1;32m     86\u001b[0m                               '` call to the Keras 2 API: ' + signature, stacklevel=2)\n\u001b[0;32m---> 87\u001b[0;31m             \u001b[0;32mreturn\u001b[0m \u001b[0mfunc\u001b[0m\u001b[0;34m(\u001b[0m\u001b[0;34m*\u001b[0m\u001b[0margs\u001b[0m\u001b[0;34m,\u001b[0m \u001b[0;34m**\u001b[0m\u001b[0mkwargs\u001b[0m\u001b[0;34m)\u001b[0m\u001b[0;34m\u001b[0m\u001b[0m\n\u001b[0m\u001b[1;32m     88\u001b[0m         \u001b[0mwrapper\u001b[0m\u001b[0;34m.\u001b[0m\u001b[0m_original_function\u001b[0m \u001b[0;34m=\u001b[0m \u001b[0mfunc\u001b[0m\u001b[0;34m\u001b[0m\u001b[0m\n\u001b[1;32m     89\u001b[0m         \u001b[0;32mreturn\u001b[0m \u001b[0mwrapper\u001b[0m\u001b[0;34m\u001b[0m\u001b[0m\n",
      "\u001b[0;32m/Users/rob/py27/lib/python2.7/site-packages/keras/engine/training.pyc\u001b[0m in \u001b[0;36mfit_generator\u001b[0;34m(self, generator, steps_per_epoch, epochs, verbose, callbacks, validation_data, validation_steps, class_weight, max_queue_size, workers, use_multiprocessing, initial_epoch)\u001b[0m\n\u001b[1;32m   1838\u001b[0m                     outs = self.train_on_batch(x, y,\n\u001b[1;32m   1839\u001b[0m                                                \u001b[0msample_weight\u001b[0m\u001b[0;34m=\u001b[0m\u001b[0msample_weight\u001b[0m\u001b[0;34m,\u001b[0m\u001b[0;34m\u001b[0m\u001b[0m\n\u001b[0;32m-> 1840\u001b[0;31m                                                class_weight=class_weight)\n\u001b[0m\u001b[1;32m   1841\u001b[0m \u001b[0;34m\u001b[0m\u001b[0m\n\u001b[1;32m   1842\u001b[0m                     \u001b[0;32mif\u001b[0m \u001b[0;32mnot\u001b[0m \u001b[0misinstance\u001b[0m\u001b[0;34m(\u001b[0m\u001b[0mouts\u001b[0m\u001b[0;34m,\u001b[0m \u001b[0mlist\u001b[0m\u001b[0;34m)\u001b[0m\u001b[0;34m:\u001b[0m\u001b[0;34m\u001b[0m\u001b[0m\n",
      "\u001b[0;32m/Users/rob/py27/lib/python2.7/site-packages/keras/engine/training.pyc\u001b[0m in \u001b[0;36mtrain_on_batch\u001b[0;34m(self, x, y, sample_weight, class_weight)\u001b[0m\n\u001b[1;32m   1563\u001b[0m             \u001b[0mins\u001b[0m \u001b[0;34m=\u001b[0m \u001b[0mx\u001b[0m \u001b[0;34m+\u001b[0m \u001b[0my\u001b[0m \u001b[0;34m+\u001b[0m \u001b[0msample_weights\u001b[0m\u001b[0;34m\u001b[0m\u001b[0m\n\u001b[1;32m   1564\u001b[0m         \u001b[0mself\u001b[0m\u001b[0;34m.\u001b[0m\u001b[0m_make_train_function\u001b[0m\u001b[0;34m(\u001b[0m\u001b[0;34m)\u001b[0m\u001b[0;34m\u001b[0m\u001b[0m\n\u001b[0;32m-> 1565\u001b[0;31m         \u001b[0moutputs\u001b[0m \u001b[0;34m=\u001b[0m \u001b[0mself\u001b[0m\u001b[0;34m.\u001b[0m\u001b[0mtrain_function\u001b[0m\u001b[0;34m(\u001b[0m\u001b[0mins\u001b[0m\u001b[0;34m)\u001b[0m\u001b[0;34m\u001b[0m\u001b[0m\n\u001b[0m\u001b[1;32m   1566\u001b[0m         \u001b[0;32mif\u001b[0m \u001b[0mlen\u001b[0m\u001b[0;34m(\u001b[0m\u001b[0moutputs\u001b[0m\u001b[0;34m)\u001b[0m \u001b[0;34m==\u001b[0m \u001b[0;36m1\u001b[0m\u001b[0;34m:\u001b[0m\u001b[0;34m\u001b[0m\u001b[0m\n\u001b[1;32m   1567\u001b[0m             \u001b[0;32mreturn\u001b[0m \u001b[0moutputs\u001b[0m\u001b[0;34m[\u001b[0m\u001b[0;36m0\u001b[0m\u001b[0;34m]\u001b[0m\u001b[0;34m\u001b[0m\u001b[0m\n",
      "\u001b[0;32m/Users/rob/py27/lib/python2.7/site-packages/keras/backend/tensorflow_backend.pyc\u001b[0m in \u001b[0;36m__call__\u001b[0;34m(self, inputs)\u001b[0m\n\u001b[1;32m   2266\u001b[0m         updated = session.run(self.outputs + [self.updates_op],\n\u001b[1;32m   2267\u001b[0m                               \u001b[0mfeed_dict\u001b[0m\u001b[0;34m=\u001b[0m\u001b[0mfeed_dict\u001b[0m\u001b[0;34m,\u001b[0m\u001b[0;34m\u001b[0m\u001b[0m\n\u001b[0;32m-> 2268\u001b[0;31m                               **self.session_kwargs)\n\u001b[0m\u001b[1;32m   2269\u001b[0m         \u001b[0;32mreturn\u001b[0m \u001b[0mupdated\u001b[0m\u001b[0;34m[\u001b[0m\u001b[0;34m:\u001b[0m\u001b[0mlen\u001b[0m\u001b[0;34m(\u001b[0m\u001b[0mself\u001b[0m\u001b[0;34m.\u001b[0m\u001b[0moutputs\u001b[0m\u001b[0;34m)\u001b[0m\u001b[0;34m]\u001b[0m\u001b[0;34m\u001b[0m\u001b[0m\n\u001b[1;32m   2270\u001b[0m \u001b[0;34m\u001b[0m\u001b[0m\n",
      "\u001b[0;32m/Users/rob/py27/lib/python2.7/site-packages/tensorflow/python/client/session.pyc\u001b[0m in \u001b[0;36mrun\u001b[0;34m(self, fetches, feed_dict, options, run_metadata)\u001b[0m\n\u001b[1;32m    776\u001b[0m     \u001b[0;32mtry\u001b[0m\u001b[0;34m:\u001b[0m\u001b[0;34m\u001b[0m\u001b[0m\n\u001b[1;32m    777\u001b[0m       result = self._run(None, fetches, feed_dict, options_ptr,\n\u001b[0;32m--> 778\u001b[0;31m                          run_metadata_ptr)\n\u001b[0m\u001b[1;32m    779\u001b[0m       \u001b[0;32mif\u001b[0m \u001b[0mrun_metadata\u001b[0m\u001b[0;34m:\u001b[0m\u001b[0;34m\u001b[0m\u001b[0m\n\u001b[1;32m    780\u001b[0m         \u001b[0mproto_data\u001b[0m \u001b[0;34m=\u001b[0m \u001b[0mtf_session\u001b[0m\u001b[0;34m.\u001b[0m\u001b[0mTF_GetBuffer\u001b[0m\u001b[0;34m(\u001b[0m\u001b[0mrun_metadata_ptr\u001b[0m\u001b[0;34m)\u001b[0m\u001b[0;34m\u001b[0m\u001b[0m\n",
      "\u001b[0;32m/Users/rob/py27/lib/python2.7/site-packages/tensorflow/python/client/session.pyc\u001b[0m in \u001b[0;36m_run\u001b[0;34m(self, handle, fetches, feed_dict, options, run_metadata)\u001b[0m\n\u001b[1;32m    980\u001b[0m     \u001b[0;32mif\u001b[0m \u001b[0mfinal_fetches\u001b[0m \u001b[0;32mor\u001b[0m \u001b[0mfinal_targets\u001b[0m\u001b[0;34m:\u001b[0m\u001b[0;34m\u001b[0m\u001b[0m\n\u001b[1;32m    981\u001b[0m       results = self._do_run(handle, final_targets, final_fetches,\n\u001b[0;32m--> 982\u001b[0;31m                              feed_dict_string, options, run_metadata)\n\u001b[0m\u001b[1;32m    983\u001b[0m     \u001b[0;32melse\u001b[0m\u001b[0;34m:\u001b[0m\u001b[0;34m\u001b[0m\u001b[0m\n\u001b[1;32m    984\u001b[0m       \u001b[0mresults\u001b[0m \u001b[0;34m=\u001b[0m \u001b[0;34m[\u001b[0m\u001b[0;34m]\u001b[0m\u001b[0;34m\u001b[0m\u001b[0m\n",
      "\u001b[0;32m/Users/rob/py27/lib/python2.7/site-packages/tensorflow/python/client/session.pyc\u001b[0m in \u001b[0;36m_do_run\u001b[0;34m(self, handle, target_list, fetch_list, feed_dict, options, run_metadata)\u001b[0m\n\u001b[1;32m   1030\u001b[0m     \u001b[0;32mif\u001b[0m \u001b[0mhandle\u001b[0m \u001b[0;32mis\u001b[0m \u001b[0mNone\u001b[0m\u001b[0;34m:\u001b[0m\u001b[0;34m\u001b[0m\u001b[0m\n\u001b[1;32m   1031\u001b[0m       return self._do_call(_run_fn, self._session, feed_dict, fetch_list,\n\u001b[0;32m-> 1032\u001b[0;31m                            target_list, options, run_metadata)\n\u001b[0m\u001b[1;32m   1033\u001b[0m     \u001b[0;32melse\u001b[0m\u001b[0;34m:\u001b[0m\u001b[0;34m\u001b[0m\u001b[0m\n\u001b[1;32m   1034\u001b[0m       return self._do_call(_prun_fn, self._session, handle, feed_dict,\n",
      "\u001b[0;32m/Users/rob/py27/lib/python2.7/site-packages/tensorflow/python/client/session.pyc\u001b[0m in \u001b[0;36m_do_call\u001b[0;34m(self, fn, *args)\u001b[0m\n\u001b[1;32m   1050\u001b[0m         \u001b[0;32mexcept\u001b[0m \u001b[0mKeyError\u001b[0m\u001b[0;34m:\u001b[0m\u001b[0;34m\u001b[0m\u001b[0m\n\u001b[1;32m   1051\u001b[0m           \u001b[0;32mpass\u001b[0m\u001b[0;34m\u001b[0m\u001b[0m\n\u001b[0;32m-> 1052\u001b[0;31m       \u001b[0;32mraise\u001b[0m \u001b[0mtype\u001b[0m\u001b[0;34m(\u001b[0m\u001b[0me\u001b[0m\u001b[0;34m)\u001b[0m\u001b[0;34m(\u001b[0m\u001b[0mnode_def\u001b[0m\u001b[0;34m,\u001b[0m \u001b[0mop\u001b[0m\u001b[0;34m,\u001b[0m \u001b[0mmessage\u001b[0m\u001b[0;34m)\u001b[0m\u001b[0;34m\u001b[0m\u001b[0m\n\u001b[0m\u001b[1;32m   1053\u001b[0m \u001b[0;34m\u001b[0m\u001b[0m\n\u001b[1;32m   1054\u001b[0m   \u001b[0;32mdef\u001b[0m \u001b[0m_extend_graph\u001b[0m\u001b[0;34m(\u001b[0m\u001b[0mself\u001b[0m\u001b[0;34m)\u001b[0m\u001b[0;34m:\u001b[0m\u001b[0;34m\u001b[0m\u001b[0m\n",
      "\u001b[0;31mInvalidArgumentError\u001b[0m: slice index 0 of dimension 0 out of bounds.\n\t [[Node: ctc/scan/strided_slice = StridedSlice[Index=DT_INT32, T=DT_INT32, begin_mask=0, ellipsis_mask=0, end_mask=0, new_axis_mask=0, shrink_axis_mask=1, _device=\"/job:localhost/replica:0/task:0/cpu:0\"](ctc/scan/Shape, ctc/scan/strided_slice/stack, ctc/scan/strided_slice/stack_1, ctc/scan/strided_slice/stack_2)]]\n\nCaused by op u'ctc/scan/strided_slice', defined at:\n  File \"/System/Library/Frameworks/Python.framework/Versions/2.7/lib/python2.7/runpy.py\", line 162, in _run_module_as_main\n    \"__main__\", fname, loader, pkg_name)\n  File \"/System/Library/Frameworks/Python.framework/Versions/2.7/lib/python2.7/runpy.py\", line 72, in _run_code\n    exec code in run_globals\n  File \"/Users/rob/py27/lib/python2.7/site-packages/ipykernel_launcher.py\", line 16, in <module>\n    app.launch_new_instance()\n  File \"/Users/rob/py27/lib/python2.7/site-packages/traitlets/config/application.py\", line 658, in launch_instance\n    app.start()\n  File \"/Users/rob/py27/lib/python2.7/site-packages/ipykernel/kernelapp.py\", line 477, in start\n    ioloop.IOLoop.instance().start()\n  File \"/Users/rob/py27/lib/python2.7/site-packages/zmq/eventloop/ioloop.py\", line 177, in start\n    super(ZMQIOLoop, self).start()\n  File \"/Users/rob/py27/lib/python2.7/site-packages/tornado/ioloop.py\", line 888, in start\n    handler_func(fd_obj, events)\n  File \"/Users/rob/py27/lib/python2.7/site-packages/tornado/stack_context.py\", line 277, in null_wrapper\n    return fn(*args, **kwargs)\n  File \"/Users/rob/py27/lib/python2.7/site-packages/zmq/eventloop/zmqstream.py\", line 440, in _handle_events\n    self._handle_recv()\n  File \"/Users/rob/py27/lib/python2.7/site-packages/zmq/eventloop/zmqstream.py\", line 472, in _handle_recv\n    self._run_callback(callback, msg)\n  File \"/Users/rob/py27/lib/python2.7/site-packages/zmq/eventloop/zmqstream.py\", line 414, in _run_callback\n    callback(*args, **kwargs)\n  File \"/Users/rob/py27/lib/python2.7/site-packages/tornado/stack_context.py\", line 277, in null_wrapper\n    return fn(*args, **kwargs)\n  File \"/Users/rob/py27/lib/python2.7/site-packages/ipykernel/kernelbase.py\", line 283, in dispatcher\n    return self.dispatch_shell(stream, msg)\n  File \"/Users/rob/py27/lib/python2.7/site-packages/ipykernel/kernelbase.py\", line 235, in dispatch_shell\n    handler(stream, idents, msg)\n  File \"/Users/rob/py27/lib/python2.7/site-packages/ipykernel/kernelbase.py\", line 399, in execute_request\n    user_expressions, allow_stdin)\n  File \"/Users/rob/py27/lib/python2.7/site-packages/ipykernel/ipkernel.py\", line 196, in do_execute\n    res = shell.run_cell(code, store_history=store_history, silent=silent)\n  File \"/Users/rob/py27/lib/python2.7/site-packages/ipykernel/zmqshell.py\", line 533, in run_cell\n    return super(ZMQInteractiveShell, self).run_cell(*args, **kwargs)\n  File \"/Users/rob/py27/lib/python2.7/site-packages/IPython/core/interactiveshell.py\", line 2705, in run_cell\n    interactivity=interactivity, compiler=compiler, result=result)\n  File \"/Users/rob/py27/lib/python2.7/site-packages/IPython/core/interactiveshell.py\", line 2809, in run_ast_nodes\n    if self.run_code(code, result):\n  File \"/Users/rob/py27/lib/python2.7/site-packages/IPython/core/interactiveshell.py\", line 2869, in run_code\n    exec(code_obj, self.user_global_ns, self.user_ns)\n  File \"<ipython-input-19-09cbd6b805b2>\", line 12, in <module>\n    label_length])\n  File \"/Users/rob/py27/lib/python2.7/site-packages/keras/engine/topology.py\", line 596, in __call__\n    output = self.call(inputs, **kwargs)\n  File \"/Users/rob/py27/lib/python2.7/site-packages/keras/layers/core.py\", line 647, in call\n    return self.function(inputs, **arguments)\n  File \"<ipython-input-16-47e45d8e21f5>\", line 41, in ctc_lambda_func\n    return K.ctc_batch_cost(labels, y_pred, input_length, label_length)\n  File \"/Users/rob/py27/lib/python2.7/site-packages/keras/backend/tensorflow_backend.py\", line 3648, in ctc_batch_cost\n    sparse_labels = tf.to_int32(ctc_label_dense_to_sparse(y_true, label_length))\n  File \"/Users/rob/py27/lib/python2.7/site-packages/keras/backend/tensorflow_backend.py\", line 3612, in ctc_label_dense_to_sparse\n    initializer=init, parallel_iterations=1)\n  File \"/Users/rob/py27/lib/python2.7/site-packages/tensorflow/python/ops/functional_ops.py\", line 526, in scan\n    n = array_ops.shape(elems_flat[0])[0]\n  File \"/Users/rob/py27/lib/python2.7/site-packages/tensorflow/python/ops/array_ops.py\", line 497, in _SliceHelper\n    name=name)\n  File \"/Users/rob/py27/lib/python2.7/site-packages/tensorflow/python/ops/array_ops.py\", line 655, in strided_slice\n    shrink_axis_mask=shrink_axis_mask)\n  File \"/Users/rob/py27/lib/python2.7/site-packages/tensorflow/python/ops/gen_array_ops.py\", line 3568, in strided_slice\n    shrink_axis_mask=shrink_axis_mask, name=name)\n  File \"/Users/rob/py27/lib/python2.7/site-packages/tensorflow/python/framework/op_def_library.py\", line 768, in apply_op\n    op_def=op_def)\n  File \"/Users/rob/py27/lib/python2.7/site-packages/tensorflow/python/framework/ops.py\", line 2336, in create_op\n    original_op=self._default_original_op, op_def=op_def)\n  File \"/Users/rob/py27/lib/python2.7/site-packages/tensorflow/python/framework/ops.py\", line 1228, in __init__\n    self._traceback = _extract_stack()\n\nInvalidArgumentError (see above for traceback): slice index 0 of dimension 0 out of bounds.\n\t [[Node: ctc/scan/strided_slice = StridedSlice[Index=DT_INT32, T=DT_INT32, begin_mask=0, ellipsis_mask=0, end_mask=0, new_axis_mask=0, shrink_axis_mask=1, _device=\"/job:localhost/replica:0/task:0/cpu:0\"](ctc/scan/Shape, ctc/scan/strided_slice/stack, ctc/scan/strided_slice/stack_1, ctc/scan/strided_slice/stack_2)]]\n"
     ]
    }
   ],
   "source": [
    "# test_func = K.function([inputs], [y_pred])\n",
    "\n",
    "# model.fit(inputs, outputs, epochs=10, batch_size=1)  # starts training\n",
    "\n",
    "model.fit_generator(generator=next_train(), \n",
    "                    steps_per_epoch=1,\n",
    "                    epochs=2,\n",
    "                    \n",
    "                    callbacks=[], \n",
    "                    validation_data=next_train(),\n",
    "                    validation_steps=1,\n",
    "                    initial_epoch=1)\n"
   ]
  },
  {
   "cell_type": "code",
   "execution_count": 9,
   "metadata": {},
   "outputs": [],
   "source": [
    "# score = model.evaluate(x_train, y_train, batch_size=1) # starts test"
   ]
  },
  {
   "cell_type": "code",
   "execution_count": null,
   "metadata": {
    "collapsed": true
   },
   "outputs": [],
   "source": [
    "# # Create Model\n",
    "\n",
    "# # Network Params\n",
    "# fc_size = 2048\n",
    "# rnn_size = 512\n",
    "# rnn_steps = 16\n",
    "\n",
    "# time_dense_size = 32\n",
    "\n",
    "# model = Sequential()\n",
    "\n",
    "# # First 3 FC layers\n",
    "# model.add(Dense(fc_size, input_shape=(input_shape[0],), name='fc1', activation='relu'))\n",
    "# model.add(Dense(fc_size, name='fc2', activation='relu'))\n",
    "# model.add(Dense(fc_size, name='fc3', activation='relu'))\n",
    "\n",
    "# # Layer 4 BiDirectional RNN\n",
    "# model.add(Reshape((fc_size/rnn_steps, rnn_steps)))\n",
    "# model.add(Bidirectional(SimpleRNN(rnn_size, return_sequences=True, go_backwards=False, name='rnn_f')))\n",
    "# model.add(Bidirectional(SimpleRNN(rnn_size, return_sequences=True, go_backwards=True, name='rnn_b', activation='relu')))\n",
    "\n",
    "# # Layer 5 FC Layer\n",
    "# model.add(Dense(fc_size, name='fc5', activation='softmax'))"
   ]
  },
  {
   "cell_type": "code",
   "execution_count": null,
   "metadata": {
    "collapsed": true
   },
   "outputs": [],
   "source": []
  }
 ],
 "metadata": {
  "kernelspec": {
   "display_name": "Python 2",
   "language": "python",
   "name": "python2"
  },
  "language_info": {
   "codemirror_mode": {
    "name": "ipython",
    "version": 2
   },
   "file_extension": ".py",
   "mimetype": "text/x-python",
   "name": "python",
   "nbconvert_exporter": "python",
   "pygments_lexer": "ipython2",
   "version": "2.7.10"
  }
 },
 "nbformat": 4,
 "nbformat_minor": 2
}
